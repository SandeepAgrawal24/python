{
 "cells": [
  {
   "cell_type": "code",
   "execution_count": 1,
   "id": "de0b042e-163e-47de-8d67-55bac4879439",
   "metadata": {},
   "outputs": [
    {
     "name": "stdout",
     "output_type": "stream",
     "text": [
      "hello\n"
     ]
    }
   ],
   "source": [
    "print(\"hello\")"
   ]
  },
  {
   "cell_type": "code",
   "execution_count": 3,
   "id": "1d7d5080-8c60-4e31-961c-abc7595ded2f",
   "metadata": {},
   "outputs": [
    {
     "name": "stdout",
     "output_type": "stream",
     "text": [
      "3\n",
      "5\n",
      "7\n",
      "9\n"
     ]
    }
   ],
   "source": [
    "for i in range(3,11,2):\n",
    "    print(i)"
   ]
  },
  {
   "cell_type": "code",
   "execution_count": 7,
   "id": "e751fc65-3ad2-40ee-a3c4-579d7b9a5d8f",
   "metadata": {},
   "outputs": [
    {
     "data": {
      "text/plain": [
       "8"
      ]
     },
     "execution_count": 7,
     "metadata": {},
     "output_type": "execute_result"
    }
   ],
   "source": [
    "eval('5+3')"
   ]
  },
  {
   "cell_type": "markdown",
   "id": "3596d51c-46ce-475e-a596-c07a7530d9e9",
   "metadata": {},
   "source": [
    "#### Input from user"
   ]
  },
  {
   "cell_type": "code",
   "execution_count": 9,
   "id": "6b4dff30-4564-450b-a0fe-8e21675fff2e",
   "metadata": {},
   "outputs": [
    {
     "name": "stdin",
     "output_type": "stream",
     "text": [
      "Enter No.: 11\n"
     ]
    },
    {
     "name": "stdout",
     "output_type": "stream",
     "text": [
      "121\n"
     ]
    }
   ],
   "source": [
    "num = int(input(\"Enter No.:\"))\n",
    "print(num*num)"
   ]
  },
  {
   "cell_type": "code",
   "execution_count": 15,
   "id": "5183f800-d217-45a5-9a66-ff50b04873b1",
   "metadata": {},
   "outputs": [
    {
     "data": {
      "text/plain": [
       "3.141592653589793"
      ]
     },
     "execution_count": 15,
     "metadata": {},
     "output_type": "execute_result"
    }
   ],
   "source": [
    "pi"
   ]
  },
  {
   "cell_type": "code",
   "execution_count": 26,
   "id": "eeef500c-c4eb-41ae-81af-53265501fd83",
   "metadata": {},
   "outputs": [
    {
     "name": "stdout",
     "output_type": "stream",
     "text": [
      "123.456799\n",
      "123.4568\n",
      "123.456799\n"
     ]
    }
   ],
   "source": [
    "num=123.456799\n",
    "print (num)\n",
    "print('%.4f' %(num))\n",
    "print (num)"
   ]
  },
  {
   "cell_type": "code",
   "execution_count": 36,
   "id": "0c6e2d98-0dee-4c62-9f11-6d08cfdd8037",
   "metadata": {},
   "outputs": [
    {
     "name": "stdout",
     "output_type": "stream",
     "text": [
      "True\n"
     ]
    }
   ],
   "source": [
    "num1 = 100\n",
    "num2 = 150\n",
    "print((num2>num1) and (num1>50) and ((num1+50) == num2))"
   ]
  },
  {
   "cell_type": "code",
   "execution_count": 9,
   "id": "9a10d5bd-ac76-4546-8dbf-4d76b95d3cfc",
   "metadata": {},
   "outputs": [
    {
     "name": "stdout",
     "output_type": "stream",
     "text": [
      "4\n",
      "4.545454545454546\n",
      "12\n"
     ]
    }
   ],
   "source": [
    "num1 = 100\n",
    "num2 = 22\n",
    "print(num1 // num2)\n",
    "print(num1 / num2)\n",
    "print(num1 % num2)"
   ]
  },
  {
   "cell_type": "code",
   "execution_count": 19,
   "id": "d639cf4d-9aa5-489a-9589-0de02e1971ed",
   "metadata": {},
   "outputs": [
    {
     "data": {
      "text/plain": [
       "str"
      ]
     },
     "execution_count": 19,
     "metadata": {},
     "output_type": "execute_result"
    }
   ],
   "source": [
    "num1 = 'hello'\n",
    "type(num1)"
   ]
  },
  {
   "cell_type": "code",
   "execution_count": 7,
   "id": "792a774e-0b45-4786-af93-111f7974ea0a",
   "metadata": {},
   "outputs": [
    {
     "name": "stdout",
     "output_type": "stream",
     "text": [
      "1\n",
      "2\n",
      "4\n",
      "5\n"
     ]
    }
   ],
   "source": [
    "x = 0\n",
    "while x < 5:\n",
    "    x += 1\n",
    "    if x == 3:\n",
    "        continue\n",
    "    print (x)"
   ]
  },
  {
   "cell_type": "code",
   "execution_count": 87,
   "id": "8f3479e5-9ad2-4483-9c9d-9eefcf3fd53e",
   "metadata": {},
   "outputs": [
    {
     "name": "stdout",
     "output_type": "stream",
     "text": [
      "mylist: [1, 3, 2, 7, 3]\n",
      "mylist: [1, 3, 2, 7, 3, 5]\n",
      "mylist: [1, 3, 2, 7]\n"
     ]
    }
   ],
   "source": [
    "mydata = [1,3,2,7,3]\n",
    "type(mydata)\n",
    "print(\"mylist:\",mydata)\n",
    "\n",
    "mydata.append(5)\n",
    "print(\"mylist:\",mydata)\n",
    "\n",
    "mydata.pop()\n",
    "mydata.pop()\n",
    "print(\"mylist:\",mydata)"
   ]
  },
  {
   "cell_type": "code",
   "execution_count": 91,
   "id": "11dd7ec3-192c-4d4b-bf31-cbb79ca6dc55",
   "metadata": {},
   "outputs": [
    {
     "name": "stdout",
     "output_type": "stream",
     "text": [
      "myset: {1, 2, 3, 7}\n",
      "myset: {1, 2, 3, 5, 7}\n",
      "myset: {1, 3, 5, 7}\n"
     ]
    }
   ],
   "source": [
    "mydata = {1,3,2,7,3}\n",
    "print(\"myset:\",mydata)\n",
    "\n",
    "mydata.add(5)\n",
    "print(\"myset:\",mydata)\n",
    "\n",
    "mydata.remove(2)\n",
    "print(\"myset:\",mydata)"
   ]
  },
  {
   "cell_type": "code",
   "execution_count": 93,
   "id": "c10ff591-66ec-406b-9a82-c46e729b63c7",
   "metadata": {},
   "outputs": [
    {
     "name": "stdout",
     "output_type": "stream",
     "text": [
      "mytuple: (1, 3, 2, 7, 3)\n"
     ]
    }
   ],
   "source": [
    "mydata = [1,3,2,7,3]\n",
    "t = tuple(mydata)\n",
    "print (\"mytuple:\",t)"
   ]
  },
  {
   "cell_type": "code",
   "execution_count": 117,
   "id": "6d1e5ccf-8f0e-4496-8b43-39a905b99f34",
   "metadata": {},
   "outputs": [
    {
     "name": "stdout",
     "output_type": "stream",
     "text": [
      "mydictionary: {7: 'two'}\n",
      "mydictionary: {7: 'seven'}\n",
      "mydictionary: {7: 'seven', 2: 'two'}\n",
      "mydictionary: {7: 'seven', 2: 'two', 4: 'two'}\n",
      "mydictionary: {7: 'seven', 2: 'two'}\n"
     ]
    }
   ],
   "source": [
    "mydata = {}\n",
    "mydata[7] = \"two\"\n",
    "print(\"mydictionary:\",mydata)\n",
    "\n",
    "mydata[7] = \"seven\"\n",
    "print(\"mydictionary:\",mydata)\n",
    "\n",
    "mydata[2] = \"two\"\n",
    "print(\"mydictionary:\",mydata)\n",
    "\n",
    "mydata[4] = \"two\"\n",
    "print(\"mydictionary:\",mydata)\n",
    "\n",
    "del mydata[4]\n",
    "print(\"mydictionary:\",mydata)"
   ]
  },
  {
   "cell_type": "code",
   "execution_count": null,
   "id": "0ad8a21e-c4b0-4bcd-8199-ac21bcad01a2",
   "metadata": {},
   "outputs": [],
   "source": []
  }
 ],
 "metadata": {
  "kernelspec": {
   "display_name": "Python 3 (ipykernel)",
   "language": "python",
   "name": "python3"
  },
  "language_info": {
   "codemirror_mode": {
    "name": "ipython",
    "version": 3
   },
   "file_extension": ".py",
   "mimetype": "text/x-python",
   "name": "python",
   "nbconvert_exporter": "python",
   "pygments_lexer": "ipython3",
   "version": "3.12.4"
  }
 },
 "nbformat": 4,
 "nbformat_minor": 5
}
