{
 "cells": [
  {
   "cell_type": "markdown",
   "id": "61f10ff6-42eb-403e-a77e-0d14e7e8118d",
   "metadata": {},
   "source": [
    "# 01 Assignments "
   ]
  },
  {
   "cell_type": "markdown",
   "id": "b164fbd9-9a4f-40cb-bbe3-3ca3f0df7fd9",
   "metadata": {},
   "source": [
    "#### 01 Celsius to Fahrenheit"
   ]
  },
  {
   "cell_type": "code",
   "execution_count": 7,
   "id": "88a4f08e-4445-4ac7-9291-81b248bd63a5",
   "metadata": {},
   "outputs": [
    {
     "name": "stdin",
     "output_type": "stream",
     "text": [
      "Enter Temp. in Celcius: 36.1134\n"
     ]
    },
    {
     "name": "stdout",
     "output_type": "stream",
     "text": [
      "Temp. in Fahrenheit:  97.00412\n"
     ]
    }
   ],
   "source": [
    "cent = float(input(\"Enter Temp. in Celcius:\"))\n",
    "print(\"Temp. in Fahrenheit: \", 1.8*cent + 32)"
   ]
  },
  {
   "cell_type": "markdown",
   "id": "4c0b455f-8fe8-47a4-b370-48e0ff3bd1ce",
   "metadata": {},
   "source": [
    "#### 02 Read radius of circle. Find the area and perimeter"
   ]
  },
  {
   "cell_type": "code",
   "execution_count": 15,
   "id": "4b1a34c2-6164-40c5-b971-7e21bddaa125",
   "metadata": {},
   "outputs": [
    {
     "name": "stdin",
     "output_type": "stream",
     "text": [
      "Enter Radius of circle: 3.14\n"
     ]
    },
    {
     "name": "stdout",
     "output_type": "stream",
     "text": [
      "Area = 30.974846927333928    Perimeter = 19.729201864543903\n"
     ]
    }
   ],
   "source": [
    "from math import pi\n",
    "r = float(input(\"Enter Radius of circle:\"))\n",
    "print(\"Area =\",pi*r*r,\"   Perimeter =\",2*pi*r)"
   ]
  },
  {
   "cell_type": "markdown",
   "id": "acf47f58-a414-4e4f-b3ea-56559df8b981",
   "metadata": {},
   "source": [
    "#### 03 Read the amount and % of interest and find final amount "
   ]
  },
  {
   "cell_type": "code",
   "execution_count": 47,
   "id": "06f871ae-e08e-4dac-9eea-d674de05d44a",
   "metadata": {},
   "outputs": [
    {
     "name": "stdin",
     "output_type": "stream",
     "text": [
      "Enter Principal Amt. and Interest Rate: 1000 10\n"
     ]
    },
    {
     "name": "stdout",
     "output_type": "stream",
     "text": [
      "Final amount after 1 year is 1100.0\n"
     ]
    }
   ],
   "source": [
    "p , r = input(\"Enter Principal Amt. and Interest Rate:\").split()\n",
    "p = float(p)\n",
    "r = float(r)\n",
    "print(\"Final amount after 1 year is\", p*(1 + r/100.0))"
   ]
  },
  {
   "cell_type": "markdown",
   "id": "b1fb5a08-a832-4582-8473-c28c9869cd1c",
   "metadata": {},
   "source": [
    "#### 04 Read distance value in meters and convert into centimeters, inches, and yards"
   ]
  },
  {
   "cell_type": "code",
   "execution_count": 58,
   "id": "06bfc018-01f7-491b-b79f-583eda4c246c",
   "metadata": {},
   "outputs": [
    {
     "name": "stdin",
     "output_type": "stream",
     "text": [
      "Enter distance in meters: 100\n"
     ]
    },
    {
     "name": "stdout",
     "output_type": "stream",
     "text": [
      "Distance in centimeters = 10000.0 , in inches=3937.0079 , and in yards=109.3610\n"
     ]
    }
   ],
   "source": [
    "mtr = float(input(\"Enter distance in meters:\"))\n",
    "print(\"Distance in centimeters =\", 100.0*mtr, \", in inches=%.4f\" %(100*mtr/2.54), \", and in yards=%.4f\" %(1.09361*mtr))"
   ]
  },
  {
   "cell_type": "markdown",
   "id": "e425506f-cbe6-4db7-a938-95ffd8cc9172",
   "metadata": {},
   "source": [
    "#### 05 Calculate profit or loss. Input is selling cost and actual cost of a product"
   ]
  },
  {
   "cell_type": "code",
   "execution_count": 65,
   "id": "d1bc30da-9936-4456-8b49-4a153a13a422",
   "metadata": {},
   "outputs": [
    {
     "name": "stdin",
     "output_type": "stream",
     "text": [
      "Enter actual cost: 100\n",
      "Enter selling cost: 100\n"
     ]
    },
    {
     "name": "stdout",
     "output_type": "stream",
     "text": [
      "Profit is 0.0\n"
     ]
    }
   ],
   "source": [
    "ac = float(input(\"Enter actual cost:\"))\n",
    "sc = float(input(\"Enter selling cost:\"))\n",
    "if sc >= ac:\n",
    "    print(\"Profit is\", sc-ac)\n",
    "else:\n",
    "    print(\"Loss is\", ac-sc)"
   ]
  },
  {
   "cell_type": "markdown",
   "id": "75ca33e9-bd81-4e5b-a221-6a37253f8a56",
   "metadata": {},
   "source": [
    "#### 06 Input basic salary and find output of gross salary"
   ]
  },
  {
   "cell_type": "code",
   "execution_count": 78,
   "id": "98ad08ce-9c42-45dd-87f6-1576c683b649",
   "metadata": {},
   "outputs": [
    {
     "name": "stdin",
     "output_type": "stream",
     "text": [
      "Enter basic salary: 16000\n"
     ]
    },
    {
     "name": "stdout",
     "output_type": "stream",
     "text": [
      "Gross salray = 29600.0\n"
     ]
    }
   ],
   "source": [
    "basic = float(input(\"Enter basic salary:\"))\n",
    "da = 0.75*basic\n",
    "hra = 0.2*basic\n",
    "if basic < 10000:\n",
    "    print(\"Gross salray =\",da + basic)\n",
    "elif basic >= 10000 and basic < 20000:\n",
    "    print(\"Gross salray =\",da + basic + 0.5*hra)\n",
    "elif basic >= 20000: \n",
    "    print(\"Gross salray =\",da + basic + hra)    "
   ]
  },
  {
   "cell_type": "markdown",
   "id": "c8f66881-7691-4cd2-9983-baa07f833a07",
   "metadata": {},
   "source": [
    "#### 07 Read a number from user and find the factorial"
   ]
  },
  {
   "cell_type": "code",
   "execution_count": 121,
   "id": "f3bd9841-3934-489d-aa2b-4f762e689bb5",
   "metadata": {},
   "outputs": [
    {
     "name": "stdin",
     "output_type": "stream",
     "text": [
      "Enter a number to find its factorial: 6\n"
     ]
    },
    {
     "name": "stdout",
     "output_type": "stream",
     "text": [
      "Factorial of 6 is 720\n"
     ]
    }
   ],
   "source": [
    "num = int(input(\"Enter a number to find its factorial:\"))\n",
    "fact = 1\n",
    "for i in range(2,num+1):\n",
    "    fact = fact*i\n",
    "print(\"Factorial of\",num,\"is\",fact)"
   ]
  },
  {
   "cell_type": "markdown",
   "id": "9a603287-6c7f-4cd8-841c-7d8e13601824",
   "metadata": {},
   "source": [
    "#### 08 Write a program to read num1 and num2 from keyboard and find addition of all numbers between that range"
   ]
  },
  {
   "cell_type": "code",
   "execution_count": 134,
   "id": "2b562d8b-3f9b-456d-8690-9fbe24ae326f",
   "metadata": {},
   "outputs": [
    {
     "name": "stdin",
     "output_type": "stream",
     "text": [
      "Enter the first number: 7 \n",
      "Enter the second number: 5\n"
     ]
    },
    {
     "name": "stdout",
     "output_type": "stream",
     "text": [
      "Summation between numbers 7 and 5 is 0\n"
     ]
    }
   ],
   "source": [
    "num1 = int(input(\"Enter the first number:\"))\n",
    "num2 = int(input(\"Enter the second number:\"))\n",
    "sum  = 0\n",
    "for i in range(num1+1,num2):\n",
    "    sum += i\n",
    "print(\"Summation between numbers\",num1,\"and\",num2,\"is\",sum)"
   ]
  },
  {
   "cell_type": "markdown",
   "id": "227488bc-ec4d-4612-967b-3acb539540e6",
   "metadata": {},
   "source": [
    "#### 09 Create two lists from a given tuple where first list contains only even numbers and second will contain only odd numbers"
   ]
  },
  {
   "cell_type": "code",
   "execution_count": 162,
   "id": "ed248301-fa24-4819-8187-9e42a2a6bad0",
   "metadata": {},
   "outputs": [
    {
     "name": "stdout",
     "output_type": "stream",
     "text": [
      "First List (even no.): [56, 2, 48, 32, 56, 68]\n",
      "Second List (odd no.): [35, 41, 43, 71, 55]\n"
     ]
    }
   ],
   "source": [
    "num = (56,2,35,41,43,48,32,56,71,55,68)\n",
    "num1 = []\n",
    "num2 = []\n",
    "for val in range(0,len(num)):\n",
    "    if num[val] % 2 == 0:\n",
    "        num1 += [num[val]]\n",
    "    else:\n",
    "        num2 += [num[val]]\n",
    "print(\"First List (even no.):\",num1)\n",
    "print(\"Second List (odd no.):\",num2)"
   ]
  },
  {
   "cell_type": "markdown",
   "id": "3aa1042b-67c6-486b-8afa-02a04fea6824",
   "metadata": {},
   "source": [
    "#### 10 Read a number from user and create and use a user defined function to check whether it is odd or even"
   ]
  },
  {
   "cell_type": "code",
   "execution_count": 172,
   "id": "dd74236f-15b0-4d8e-a12c-09d3d7ee9472",
   "metadata": {},
   "outputs": [
    {
     "name": "stdin",
     "output_type": "stream",
     "text": [
      "Enter a No. to check whether it's even or odd: 113\n"
     ]
    },
    {
     "name": "stdout",
     "output_type": "stream",
     "text": [
      "The no. 113 is ODD\n"
     ]
    }
   ],
   "source": [
    "def check(x):\n",
    "    if x%2 == 0:\n",
    "        print(\"The no.\",x,\"is EVEN\")\n",
    "    elif x%2 == 1: \n",
    "        print(\"The no.\",x,\"is ODD\")\n",
    "\n",
    "num = int(input(\"Enter a No. to check whether it's even or odd:\"))\n",
    "check(num)"
   ]
  },
  {
   "cell_type": "markdown",
   "id": "23ae85e5-138c-42dc-b6b4-2fb5b199599d",
   "metadata": {},
   "source": [
    "#### 11 Read a number from user and find the square root, sin, tan, log and factorial of this number using math module"
   ]
  },
  {
   "cell_type": "code",
   "execution_count": 194,
   "id": "955b4558-7ba7-41d9-9531-da0bad53e5d0",
   "metadata": {},
   "outputs": [
    {
     "name": "stdin",
     "output_type": "stream",
     "text": [
      "Enter a no.: 16\n"
     ]
    },
    {
     "name": "stdout",
     "output_type": "stream",
     "text": [
      "Sq. root= 4.0 \n",
      "sin()= -0.2879033166650653 \n",
      "tan()= 0.3006322420239034 \n",
      "log()= 2.772588722239781 \n",
      "factorial= 20922789888000\n"
     ]
    }
   ],
   "source": [
    "import math as ma\n",
    "num = int(input(\"Enter a no.:\"))\n",
    "print(\"Sq. root=\",ma.sqrt(num),\"\\nsin()=\",ma.sin(num),\"\\ntan()=\",ma.tan(num),\"\\nlog()=\",ma.log(num),\"\\nfactorial=\",ma.factorial(num))"
   ]
  },
  {
   "cell_type": "markdown",
   "id": "6e41159f-40cc-458f-b742-d4cf4c531d8c",
   "metadata": {},
   "source": [
    "#### 12 Python class named ‘Rectangle’"
   ]
  },
  {
   "cell_type": "code",
   "execution_count": 219,
   "id": "b0db662d-440a-4ed1-9bc2-26d57595fd15",
   "metadata": {},
   "outputs": [
    {
     "name": "stdout",
     "output_type": "stream",
     "text": [
      "Area of Rectangle [len= 4.5 , wid= 3.5 ] is 15.75\n"
     ]
    }
   ],
   "source": [
    "class Rectangle:\n",
    "    def __init__(self,len,wid):\n",
    "        self.length = len\n",
    "        self.width = wid\n",
    "    def show(self):\n",
    "        print(\"Length =\",self.length,\" Width =\",self.width)\n",
    "    def calculate(self):\n",
    "        area = self.length * self.width\n",
    "        return area\n",
    "\n",
    "rec1 = Rectangle(4.5,3.5)\n",
    "print(\"Area of Rectangle [len=\",rec1.length,\", wid=\",rec1.width,\"] is\",rec1.calculate())"
   ]
  },
  {
   "cell_type": "code",
   "execution_count": null,
   "id": "3f8c238a-e460-4138-9777-c017f0e5efa5",
   "metadata": {},
   "outputs": [],
   "source": []
  }
 ],
 "metadata": {
  "kernelspec": {
   "display_name": "Python 3 (ipykernel)",
   "language": "python",
   "name": "python3"
  },
  "language_info": {
   "codemirror_mode": {
    "name": "ipython",
    "version": 3
   },
   "file_extension": ".py",
   "mimetype": "text/x-python",
   "name": "python",
   "nbconvert_exporter": "python",
   "pygments_lexer": "ipython3",
   "version": "3.12.4"
  }
 },
 "nbformat": 4,
 "nbformat_minor": 5
}
