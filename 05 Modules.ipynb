{
 "cells": [
  {
   "cell_type": "markdown",
   "id": "6c1726a2-7a08-40b2-8570-ff78eac5b5bb",
   "metadata": {},
   "source": [
    "# Modules"
   ]
  },
  {
   "cell_type": "markdown",
   "id": "1f86a135-2447-4ca0-a7ae-efb169eca31f",
   "metadata": {},
   "source": [
    "#### Using import keyword"
   ]
  },
  {
   "cell_type": "code",
   "execution_count": 6,
   "id": "c229a613-d867-44ac-8bee-9e4182852130",
   "metadata": {},
   "outputs": [
    {
     "data": {
      "text/plain": [
       "9.0"
      ]
     },
     "execution_count": 6,
     "metadata": {},
     "output_type": "execute_result"
    }
   ],
   "source": [
    "import math\n",
    "\n",
    "math.sqrt(81)"
   ]
  },
  {
   "cell_type": "code",
   "execution_count": 14,
   "id": "37e36ae6-89a5-4e88-a689-2f15a66531cf",
   "metadata": {},
   "outputs": [
    {
     "name": "stdout",
     "output_type": "stream",
     "text": [
      "3.141592653589793 2.718281828459045\n",
      "2.772588722239781\n",
      "1.0\n"
     ]
    }
   ],
   "source": [
    "print(math.pi, math.e)\n",
    "print(math.log(16))\n",
    "print(math.cos(0))\n"
   ]
  },
  {
   "cell_type": "code",
   "execution_count": 16,
   "id": "f7d21ab0-9137-484d-827c-1edbb1e29361",
   "metadata": {},
   "outputs": [
    {
     "data": {
      "text/plain": [
       "'Tue Aug 13 17:28:55 2024'"
      ]
     },
     "execution_count": 16,
     "metadata": {},
     "output_type": "execute_result"
    }
   ],
   "source": [
    "import time\n",
    "\n",
    "time.asctime()"
   ]
  },
  {
   "cell_type": "code",
   "execution_count": 28,
   "id": "5f2590e8-9624-42e8-af17-878e952034dc",
   "metadata": {},
   "outputs": [
    {
     "name": "stdout",
     "output_type": "stream",
     "text": [
      "Tue Aug 13 17:30:40 2024\n",
      "Tue Aug 13 17:30:45 2024\n",
      "hello\n"
     ]
    }
   ],
   "source": [
    "print(time.asctime())\n",
    "time.sleep(5)\n",
    "print(time.asctime())\n",
    "print(\"hello\")"
   ]
  },
  {
   "cell_type": "code",
   "execution_count": 32,
   "id": "9b61f717-4ede-4caf-ab6e-f94f4df29ccc",
   "metadata": {},
   "outputs": [
    {
     "data": {
      "text/plain": [
       "(9.0, 2.0)"
      ]
     },
     "execution_count": 32,
     "metadata": {},
     "output_type": "execute_result"
    }
   ],
   "source": [
    "import math as m\n",
    "\n",
    "m.sqrt(81),  m.log10(100)  "
   ]
  },
  {
   "cell_type": "code",
   "execution_count": 40,
   "id": "9e3eb781-b99d-41ef-844d-1c9f31b43824",
   "metadata": {},
   "outputs": [
    {
     "data": {
      "text/plain": [
       "(9.0, 2.0, 3.141592653589793)"
      ]
     },
     "execution_count": 40,
     "metadata": {},
     "output_type": "execute_result"
    }
   ],
   "source": [
    "from math import sqrt, log10, pi\n",
    "\n",
    "sqrt(81),  log10(100),  pi"
   ]
  },
  {
   "cell_type": "code",
   "execution_count": null,
   "id": "52d2245a-d629-46fe-be59-66f2fce4a4ca",
   "metadata": {},
   "outputs": [],
   "source": []
  }
 ],
 "metadata": {
  "kernelspec": {
   "display_name": "Python 3 (ipykernel)",
   "language": "python",
   "name": "python3"
  },
  "language_info": {
   "codemirror_mode": {
    "name": "ipython",
    "version": 3
   },
   "file_extension": ".py",
   "mimetype": "text/x-python",
   "name": "python",
   "nbconvert_exporter": "python",
   "pygments_lexer": "ipython3",
   "version": "3.12.4"
  }
 },
 "nbformat": 4,
 "nbformat_minor": 5
}
