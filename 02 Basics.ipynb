{
 "cells": [
  {
   "cell_type": "code",
   "execution_count": 1,
   "id": "2cb0a85c-00a1-4465-98d7-9ca051cf2f2e",
   "metadata": {},
   "outputs": [
    {
     "data": {
      "text/plain": [
       "tuple"
      ]
     },
     "execution_count": 1,
     "metadata": {},
     "output_type": "execute_result"
    }
   ],
   "source": [
    "num=(43,34,76,12,89)\n",
    "type(num)"
   ]
  },
  {
   "cell_type": "code",
   "execution_count": 3,
   "id": "d0287128-cc14-4259-b794-eb3f785a5c46",
   "metadata": {},
   "outputs": [
    {
     "data": {
      "text/plain": [
       "set"
      ]
     },
     "execution_count": 3,
     "metadata": {},
     "output_type": "execute_result"
    }
   ],
   "source": [
    "num={43,34,76,12,89}\n",
    "type(num)"
   ]
  },
  {
   "cell_type": "code",
   "execution_count": 5,
   "id": "85e2d736-6910-43a1-8fff-33f905c4773f",
   "metadata": {},
   "outputs": [
    {
     "data": {
      "text/plain": [
       "list"
      ]
     },
     "execution_count": 5,
     "metadata": {},
     "output_type": "execute_result"
    }
   ],
   "source": [
    "num=[43,34,76,12,89]\n",
    "type(num)"
   ]
  },
  {
   "cell_type": "code",
   "execution_count": 9,
   "id": "63ad9377-6a28-43ca-aca9-3e6a2ea9277d",
   "metadata": {},
   "outputs": [
    {
     "data": {
      "text/plain": [
       "dict"
      ]
     },
     "execution_count": 9,
     "metadata": {},
     "output_type": "execute_result"
    }
   ],
   "source": [
    "num={43:22,34:34,76:44,12:14,89:56}\n",
    "type(num)"
   ]
  },
  {
   "cell_type": "markdown",
   "id": "3f237e95-27d4-471a-ba82-5d4d4b91ca3b",
   "metadata": {},
   "source": [
    "#### List"
   ]
  },
  {
   "cell_type": "code",
   "execution_count": 22,
   "id": "ce3bbfba-9088-43d1-9ca8-25225da0373b",
   "metadata": {},
   "outputs": [
    {
     "name": "stdout",
     "output_type": "stream",
     "text": [
      "43\n",
      "102\n",
      "12\n"
     ]
    }
   ],
   "source": [
    "num=[43,34,76,12,89]\n",
    "print(num[0])\n",
    "num[0] = 102\n",
    "print(num[0])\n",
    "print(num[-2])"
   ]
  },
  {
   "cell_type": "code",
   "execution_count": 24,
   "id": "c9dbb3b0-8671-44eb-9782-a658879a9c06",
   "metadata": {},
   "outputs": [
    {
     "name": "stdout",
     "output_type": "stream",
     "text": [
      "[81.32, 'Pune', 56, True]\n",
      "81.32\n",
      "Pune\n",
      "56\n",
      "True\n"
     ]
    }
   ],
   "source": [
    "mixed = [81.32, 'Pune', 56, True]\n",
    "print(mixed)\n",
    "for val in mixed:\n",
    "    print(val)"
   ]
  },
  {
   "cell_type": "code",
   "execution_count": 26,
   "id": "59c29604-9d00-43b7-a492-a1b42d3fdba4",
   "metadata": {},
   "outputs": [
    {
     "name": "stdout",
     "output_type": "stream",
     "text": [
      "43\n",
      "89\n"
     ]
    }
   ],
   "source": [
    "num=[43,34,76,12,89]\n",
    "for val in num:\n",
    "    if val%2 == 1:\n",
    "        print(val)\n",
    "    "
   ]
  },
  {
   "cell_type": "code",
   "execution_count": 42,
   "id": "449cae3b-411b-43f4-9b1e-830f356f71f6",
   "metadata": {},
   "outputs": [
    {
     "name": "stdout",
     "output_type": "stream",
     "text": [
      "[43, 34, 76, 12, 89]\n",
      "[43, 34, 76, 12, 89, 5]\n",
      "[43, 34, 76, 12, 89, 5, 15, 9]\n",
      "[89, 5]\n",
      "[12, 89, 5, 15, 9]\n",
      "[43, 34, 76]\n"
     ]
    }
   ],
   "source": [
    "e = [43,34,76,12,89]\n",
    "print(e)\n",
    "\n",
    "e += [5]\n",
    "print(e)\n",
    "\n",
    "e += [15,9]\n",
    "print(e)\n",
    "\n",
    "# slicing\n",
    "x = e[4:6]\n",
    "print(x)\n",
    "\n",
    "print(e[3:])\n",
    "print(e[:3])"
   ]
  },
  {
   "cell_type": "code",
   "execution_count": 90,
   "id": "33fbd51a-9ad5-4a83-a098-8374dad7a24c",
   "metadata": {},
   "outputs": [
    {
     "name": "stdout",
     "output_type": "stream",
     "text": [
      "[43, 34, 76, 12]\n",
      "[89, 5, 15, 9, 11, 13]\n",
      "[43, 34, 76, 12, 89, 5, 15, 9, 11, 13]\n",
      "[43, 34, 76, 12, 43, 34, 76, 12, 43, 34, 76, 12]\n",
      "5 89 307\n",
      "[5, 9, 11, 12, 13, 15, 34, 43, 76, 89]\n",
      "[89, 76, 43, 34, 15, 13, 12, 11, 9, 5]\n",
      "[43, 34, 76, 12, 89, 5, 15, 9, 11, 13]\n",
      "[43, 34, 76, 12, 89, 5, 15, 9, 11, 13, 23]\n",
      "[43, 34, 76, 12, 5, 15, 9, 11, 13, 23]\n",
      "[43, 34, 12, 5, 15, 9, 11, 13, 23]\n",
      "[43, 34, 101, 12, 5, 15, 9, 11, 13, 23]\n",
      "[5, 9, 11, 12, 13, 15, 23, 34, 43, 101]\n",
      "[]\n"
     ]
    },
    {
     "ename": "NameError",
     "evalue": "name 'num' is not defined",
     "output_type": "error",
     "traceback": [
      "\u001b[1;31m---------------------------------------------------------------------------\u001b[0m",
      "\u001b[1;31mNameError\u001b[0m                                 Traceback (most recent call last)",
      "Cell \u001b[1;32mIn[90], line 39\u001b[0m\n\u001b[0;32m     36\u001b[0m \u001b[38;5;28mprint\u001b[39m(num)\n\u001b[0;32m     38\u001b[0m \u001b[38;5;28;01mdel\u001b[39;00m num\n\u001b[1;32m---> 39\u001b[0m \u001b[38;5;28mprint\u001b[39m(num)\n",
      "\u001b[1;31mNameError\u001b[0m: name 'num' is not defined"
     ]
    }
   ],
   "source": [
    "# concatenation etc.\n",
    "num = [43, 34, 76, 12, 89, 5, 15, 9, 11, 13]\n",
    "num1 = num[:4]\n",
    "num2 = num[4:]\n",
    "print(num1)\n",
    "print(num2)\n",
    "\n",
    "num3  = num1 + num2\n",
    "print(num3)\n",
    "\n",
    "print(num1 * 3)\n",
    "\n",
    "print(min(num), max(num), sum(num))\n",
    "\n",
    "print(sorted(num))\n",
    "print(sorted(num, reverse=True))\n",
    "\n",
    "print(num)\n",
    "num.append(23)\n",
    "print(num)\n",
    "\n",
    "num.remove(89)\n",
    "print(num)\n",
    "\n",
    "#Insert or pop elements at specific index\n",
    "num.pop(2)\n",
    "print(num)\n",
    "\n",
    "num.insert(2, 101)\n",
    "print(num)\n",
    "\n",
    "num.sort()\n",
    "print(num)\n",
    "\n",
    "num.clear()\n",
    "print(num)\n",
    "\n",
    "del num\n",
    "print(num)"
   ]
  },
  {
   "cell_type": "code",
   "execution_count": 150,
   "id": "70d27af4-e775-404c-9ef3-0c9bffdf1d3a",
   "metadata": {},
   "outputs": [
    {
     "name": "stdout",
     "output_type": "stream",
     "text": [
      "['silver', 'gold', 'copper', 'zinc', 'silver', 'gold', 'copper', 'zinc', 'nickel']\n",
      "['silver', 'gold', 'zinc', 'silver', 'gold', 'zinc', 'nickel']\n",
      "['silver', 'gold', 'zinc', 'silver', 'gold', 'zinc', 'nickel']\n"
     ]
    },
    {
     "name": "stderr",
     "output_type": "stream",
     "text": [
      "<>:12: SyntaxWarning: list indices must be integers or slices, not tuple; perhaps you missed a comma?\n",
      "<>:12: SyntaxWarning: list indices must be integers or slices, not tuple; perhaps you missed a comma?\n",
      "C:\\Users\\sandeep\\AppData\\Local\\Temp\\ipykernel_16092\\3246566805.py:12: SyntaxWarning: list indices must be integers or slices, not tuple; perhaps you missed a comma?\n",
      "  metals = ['silver','gold','copper','zinc','silver','gold','copper','zinc','nickel']['silver', 'gold', 'zinc', 'silver', 'gold', 'zinc', 'nickel']\n",
      "C:\\Users\\sandeep\\AppData\\Local\\Temp\\ipykernel_16092\\3246566805.py:12: SyntaxWarning: list indices must be integers or slices, not tuple; perhaps you missed a comma?\n",
      "  metals = ['silver','gold','copper','zinc','silver','gold','copper','zinc','nickel']['silver', 'gold', 'zinc', 'silver', 'gold', 'zinc', 'nickel']\n",
      "C:\\Users\\sandeep\\AppData\\Local\\Temp\\ipykernel_16092\\3246566805.py:12: SyntaxWarning: list indices must be integers or slices, not tuple; perhaps you missed a comma?\n",
      "  metals = ['silver','gold','copper','zinc','silver','gold','copper','zinc','nickel']['silver', 'gold', 'zinc', 'silver', 'gold', 'zinc', 'nickel']\n",
      "C:\\Users\\sandeep\\AppData\\Local\\Temp\\ipykernel_16092\\3246566805.py:12: SyntaxWarning: list indices must be integers or slices, not tuple; perhaps you missed a comma?\n",
      "  metals = ['silver','gold','copper','zinc','silver','gold','copper','zinc','nickel']['silver', 'gold', 'zinc', 'silver', 'gold', 'zinc', 'nickel']\n",
      "C:\\Users\\sandeep\\AppData\\Local\\Temp\\ipykernel_16092\\3246566805.py:12: SyntaxWarning: list indices must be integers or slices, not tuple; perhaps you missed a comma?\n",
      "  metals = ['silver','gold','copper','zinc','silver','gold','copper','zinc','nickel']['silver', 'gold', 'zinc', 'silver', 'gold', 'zinc', 'nickel']\n"
     ]
    },
    {
     "ename": "TypeError",
     "evalue": "list indices must be integers or slices, not tuple",
     "output_type": "error",
     "traceback": [
      "\u001b[1;31m---------------------------------------------------------------------------\u001b[0m",
      "\u001b[1;31mTypeError\u001b[0m                                 Traceback (most recent call last)",
      "Cell \u001b[1;32mIn[150], line 12\u001b[0m\n\u001b[0;32m      9\u001b[0m \u001b[38;5;28mprint\u001b[39m(newmetals)\n\u001b[0;32m     10\u001b[0m \u001b[38;5;28mprint\u001b[39m(metals)\n\u001b[1;32m---> 12\u001b[0m metals \u001b[38;5;241m=\u001b[39m [\u001b[38;5;124m'\u001b[39m\u001b[38;5;124msilver\u001b[39m\u001b[38;5;124m'\u001b[39m,\u001b[38;5;124m'\u001b[39m\u001b[38;5;124mgold\u001b[39m\u001b[38;5;124m'\u001b[39m,\u001b[38;5;124m'\u001b[39m\u001b[38;5;124mcopper\u001b[39m\u001b[38;5;124m'\u001b[39m,\u001b[38;5;124m'\u001b[39m\u001b[38;5;124mzinc\u001b[39m\u001b[38;5;124m'\u001b[39m,\u001b[38;5;124m'\u001b[39m\u001b[38;5;124msilver\u001b[39m\u001b[38;5;124m'\u001b[39m,\u001b[38;5;124m'\u001b[39m\u001b[38;5;124mgold\u001b[39m\u001b[38;5;124m'\u001b[39m,\u001b[38;5;124m'\u001b[39m\u001b[38;5;124mcopper\u001b[39m\u001b[38;5;124m'\u001b[39m,\u001b[38;5;124m'\u001b[39m\u001b[38;5;124mzinc\u001b[39m\u001b[38;5;124m'\u001b[39m,\u001b[38;5;124m'\u001b[39m\u001b[38;5;124mnickel\u001b[39m\u001b[38;5;124m'\u001b[39m][\u001b[38;5;124m'\u001b[39m\u001b[38;5;124msilver\u001b[39m\u001b[38;5;124m'\u001b[39m, \u001b[38;5;124m'\u001b[39m\u001b[38;5;124mgold\u001b[39m\u001b[38;5;124m'\u001b[39m, \u001b[38;5;124m'\u001b[39m\u001b[38;5;124mzinc\u001b[39m\u001b[38;5;124m'\u001b[39m, \u001b[38;5;124m'\u001b[39m\u001b[38;5;124msilver\u001b[39m\u001b[38;5;124m'\u001b[39m, \u001b[38;5;124m'\u001b[39m\u001b[38;5;124mgold\u001b[39m\u001b[38;5;124m'\u001b[39m, \u001b[38;5;124m'\u001b[39m\u001b[38;5;124mzinc\u001b[39m\u001b[38;5;124m'\u001b[39m, \u001b[38;5;124m'\u001b[39m\u001b[38;5;124mnickel\u001b[39m\u001b[38;5;124m'\u001b[39m]\n\u001b[0;32m     13\u001b[0m newmetals \u001b[38;5;241m=\u001b[39m [m \u001b[38;5;28;01mfor\u001b[39;00m m \u001b[38;5;129;01min\u001b[39;00m metals \u001b[38;5;28;01mif\u001b[39;00m m \u001b[38;5;241m!=\u001b[39m \u001b[38;5;124m'\u001b[39m\u001b[38;5;124mcopper\u001b[39m\u001b[38;5;124m'\u001b[39m]\n\u001b[0;32m     14\u001b[0m \u001b[38;5;28mprint\u001b[39m(newmetals)\n",
      "\u001b[1;31mTypeError\u001b[0m: list indices must be integers or slices, not tuple"
     ]
    }
   ],
   "source": [
    "metals = ['silver','gold','copper','zinc','silver','gold','copper','zinc','nickel']\n",
    "newmetals = metals\n",
    "print(newmetals)\n",
    "\n",
    "### doesn't work if for loop is replaced by while loop\n",
    "for val in metals:\n",
    "    if val == 'copper':\n",
    "        newmetals.remove(val)\n",
    "print(newmetals)\n",
    "print(metals)\n",
    "\n",
    "metals = ['silver','gold','copper','zinc','silver','gold','copper','zinc','nickel']['silver', 'gold', 'zinc', 'silver', 'gold', 'zinc', 'nickel']\n",
    "newmetals = [m for m in metals if m != 'copper']\n",
    "print(newmetals)\n",
    "print(metals)"
   ]
  },
  {
   "cell_type": "code",
   "execution_count": 138,
   "id": "c391aedb-ae18-4304-8473-09e8a3f796ab",
   "metadata": {},
   "outputs": [
    {
     "name": "stdout",
     "output_type": "stream",
     "text": [
      "[21.5, 17.0, 38.0, 6.0, 44.5, 2.5, 7.5, 4.5, 5.5, 6.5]\n",
      "[1849, 1156, 5776, 144, 7921, 25, 225, 81, 121, 169]\n",
      "[43, 89, 5, 15, 9, 11, 13]\n"
     ]
    }
   ],
   "source": [
    "# List comprehension\n",
    "num = [43, 34, 76, 12, 89, 5, 15, 9, 11, 13]\n",
    "newnum = [n/2 for n in num]\n",
    "print(newnum)\n",
    "\n",
    "newnum = [n*n for n in num]\n",
    "print(newnum)\n",
    "\n",
    "newnum = [n for n in num if n%2 == 1]\n",
    "print(newnum)"
   ]
  },
  {
   "cell_type": "code",
   "execution_count": 172,
   "id": "9b3543b1-a1d9-43ab-947f-41bd16519c5e",
   "metadata": {},
   "outputs": [
    {
     "name": "stdout",
     "output_type": "stream",
     "text": [
      "[43, 34, 76, 12, 89, 5, 9, 10, 11, 13, 15]\n"
     ]
    }
   ],
   "source": [
    "### Sort last half of list\n",
    "\n",
    "num = [43, 34, 76, 12, 89, 5, 15, 9, 11, 13, 10]\n",
    "newnum = num[:len(num)//2] + sorted(num[len(num)//2:])\n",
    "print(newnum)"
   ]
  },
  {
   "cell_type": "code",
   "execution_count": null,
   "id": "03661805-995c-446f-9daf-b77ca0c08831",
   "metadata": {},
   "outputs": [],
   "source": []
  }
 ],
 "metadata": {
  "kernelspec": {
   "display_name": "Python 3 (ipykernel)",
   "language": "python",
   "name": "python3"
  },
  "language_info": {
   "codemirror_mode": {
    "name": "ipython",
    "version": 3
   },
   "file_extension": ".py",
   "mimetype": "text/x-python",
   "name": "python",
   "nbconvert_exporter": "python",
   "pygments_lexer": "ipython3",
   "version": "3.12.4"
  }
 },
 "nbformat": 4,
 "nbformat_minor": 5
}
