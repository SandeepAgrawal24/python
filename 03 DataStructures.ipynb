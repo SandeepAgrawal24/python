{
 "cells": [
  {
   "cell_type": "markdown",
   "id": "47dfc449-0e2c-433b-a77b-36b457881e6a",
   "metadata": {},
   "source": [
    "#### Tuple"
   ]
  },
  {
   "cell_type": "code",
   "execution_count": 2,
   "id": "6fe44edd-d7f8-4677-a2bc-5f81ae09cf3a",
   "metadata": {},
   "outputs": [
    {
     "name": "stdout",
     "output_type": "stream",
     "text": [
      "(100, 200, 300)\n",
      "<class 'tuple'>\n",
      "300\n"
     ]
    },
    {
     "ename": "TypeError",
     "evalue": "'tuple' object does not support item assignment",
     "output_type": "error",
     "traceback": [
      "\u001b[1;31m---------------------------------------------------------------------------\u001b[0m",
      "\u001b[1;31mTypeError\u001b[0m                                 Traceback (most recent call last)",
      "Cell \u001b[1;32mIn[2], line 7\u001b[0m\n\u001b[0;32m      4\u001b[0m \u001b[38;5;28mprint\u001b[39m(num[\u001b[38;5;241m2\u001b[39m])\n\u001b[0;32m      6\u001b[0m \u001b[38;5;66;03m# Tuple is immutable\u001b[39;00m\n\u001b[1;32m----> 7\u001b[0m num[\u001b[38;5;241m2\u001b[39m]\u001b[38;5;241m=\u001b[39m\u001b[38;5;241m400\u001b[39m\n\u001b[0;32m      8\u001b[0m \u001b[38;5;28mprint\u001b[39m(num[\u001b[38;5;241m2\u001b[39m])\n",
      "\u001b[1;31mTypeError\u001b[0m: 'tuple' object does not support item assignment"
     ]
    }
   ],
   "source": [
    "num = (100,200,300)\n",
    "print(num)\n",
    "print(type(num))\n",
    "print(num[2])\n",
    "\n",
    "# Tuple is immutable\n",
    "num[2]=400\n",
    "print(num[2])"
   ]
  },
  {
   "cell_type": "markdown",
   "id": "14910953-fe0c-4b93-af73-2ae006331d18",
   "metadata": {},
   "source": [
    "#### Set"
   ]
  },
  {
   "cell_type": "code",
   "execution_count": 11,
   "id": "a05faec1-22be-43a9-8c4e-92459933e1c7",
   "metadata": {},
   "outputs": [
    {
     "name": "stdout",
     "output_type": "stream",
     "text": [
      "{200, 100, 400, 300}\n",
      "{100, 200, 300, 400, 500}\n"
     ]
    }
   ],
   "source": [
    "num = {100,200,300,400}\n",
    "print(num)\n",
    "\n",
    "#Repeated elements are taken only once\n",
    "num.add(300)\n",
    "num.add(500)\n",
    "print(num)"
   ]
  },
  {
   "cell_type": "code",
   "execution_count": 25,
   "id": "3eedfe9e-3d10-4a70-a554-ab6a7de60340",
   "metadata": {},
   "outputs": [
    {
     "name": "stdout",
     "output_type": "stream",
     "text": [
      "{2, 5}\n",
      "{0, 1, 2, 3, 4, 5, 7}\n",
      "{1, 3, 4}\n",
      "{0, 7}\n"
     ]
    }
   ],
   "source": [
    "s1 = {1,2,3,4,5}\n",
    "s2 = {0,2,5,7}\n",
    "\n",
    "print(s1.intersection(s2))\n",
    "print(s1.union(s2))\n",
    "print(s1.difference(s2))\n",
    "print(s2.difference(s1))"
   ]
  },
  {
   "cell_type": "markdown",
   "id": "e7303fa5-6bbb-40f2-bf3c-a40632d96433",
   "metadata": {},
   "source": [
    "#### Dictionary"
   ]
  },
  {
   "cell_type": "code",
   "execution_count": 55,
   "id": "5235fb07-303e-4d69-8d25-a14ef7bf15c2",
   "metadata": {},
   "outputs": [
    {
     "name": "stdout",
     "output_type": "stream",
     "text": [
      "27\n",
      "apple\n",
      "{2: 56, 5: 27, 6: 1000, 7: 372, 'a': 'apple'}\n",
      "{2: 56, 5: 27, 6: 1000, 7: 372, 'a': 'apple', 'z': 'zebra'}\n"
     ]
    }
   ],
   "source": [
    "d = {2:56, 5:27, 6:379, 7:372, 'a':'apple'}\n",
    "print(d[5])   #access value through its key\n",
    "print(d['a'])\n",
    "\n",
    "d[6] = 1000\n",
    "print(d)\n",
    "\n",
    "d['z'] = 'zebra'\n",
    "print(d)"
   ]
  },
  {
   "cell_type": "code",
   "execution_count": 57,
   "id": "60ddf289-3700-4bc9-8588-0779592f0d24",
   "metadata": {},
   "outputs": [
    {
     "data": {
      "text/plain": [
       "dict"
      ]
     },
     "execution_count": 57,
     "metadata": {},
     "output_type": "execute_result"
    }
   ],
   "source": [
    "x  = {}\n",
    "type(x)"
   ]
  },
  {
   "cell_type": "code",
   "execution_count": 65,
   "id": "4c3cd70e-836a-49fd-9266-c598337ffcd3",
   "metadata": {},
   "outputs": [
    {
     "name": "stdout",
     "output_type": "stream",
     "text": [
      "{0, 1, 2, 3, 4, 5, 8}\n",
      "[3, 9, 12, 5, 2]\n"
     ]
    }
   ],
   "source": [
    "l = [5,4,8,2,0,1,3]\n",
    "t = (3,9,12,5,2)\n",
    "s = {2,7,4,1,6}\n",
    "\n",
    "print(set(l))\n",
    "print(list(t))"
   ]
  },
  {
   "cell_type": "code",
   "execution_count": 67,
   "id": "2fd0b643-125e-4143-aee6-fe5ad9d92698",
   "metadata": {},
   "outputs": [
    {
     "name": "stdout",
     "output_type": "stream",
     "text": [
      "alive\n"
     ]
    }
   ],
   "source": [
    "print(\"alive\")"
   ]
  },
  {
   "cell_type": "code",
   "execution_count": null,
   "id": "86c8bccb-fdce-4ec6-a3d3-ad768f47ffd2",
   "metadata": {},
   "outputs": [],
   "source": []
  }
 ],
 "metadata": {
  "kernelspec": {
   "display_name": "Python 3 (ipykernel)",
   "language": "python",
   "name": "python3"
  },
  "language_info": {
   "codemirror_mode": {
    "name": "ipython",
    "version": 3
   },
   "file_extension": ".py",
   "mimetype": "text/x-python",
   "name": "python",
   "nbconvert_exporter": "python",
   "pygments_lexer": "ipython3",
   "version": "3.12.4"
  }
 },
 "nbformat": 4,
 "nbformat_minor": 5
}
