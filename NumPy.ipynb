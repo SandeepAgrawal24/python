{
 "cells": [
  {
   "cell_type": "markdown",
   "id": "7fa2cdd8-6b07-4fab-abb6-aa3ff77ee19b",
   "metadata": {},
   "source": [
    "# NumPy"
   ]
  },
  {
   "cell_type": "code",
   "execution_count": 1,
   "id": "ed3d5454-f7cd-4ab8-95f0-3e5ff04e4d47",
   "metadata": {},
   "outputs": [],
   "source": [
    "import numpy as np"
   ]
  },
  {
   "cell_type": "code",
   "execution_count": 5,
   "id": "7d682719-9388-4ed2-a3bf-c6f8067c1929",
   "metadata": {},
   "outputs": [],
   "source": [
    "num = np.array([45,84,12,91,27,84,81,62])"
   ]
  },
  {
   "cell_type": "code",
   "execution_count": 7,
   "id": "902ac70d-06f6-47d5-8b9e-a26b697b4736",
   "metadata": {},
   "outputs": [
    {
     "data": {
      "text/plain": [
       "array([45, 84, 12, 91, 27, 84, 81, 62])"
      ]
     },
     "execution_count": 7,
     "metadata": {},
     "output_type": "execute_result"
    }
   ],
   "source": [
    "num"
   ]
  },
  {
   "cell_type": "code",
   "execution_count": 9,
   "id": "3d424cbf-c9bc-46ed-a203-e10ba82da282",
   "metadata": {},
   "outputs": [
    {
     "data": {
      "text/plain": [
       "numpy.ndarray"
      ]
     },
     "execution_count": 9,
     "metadata": {},
     "output_type": "execute_result"
    }
   ],
   "source": [
    "type(num)"
   ]
  },
  {
   "cell_type": "code",
   "execution_count": 11,
   "id": "d143d1db-e78b-489c-9041-b1b39023b0fe",
   "metadata": {},
   "outputs": [
    {
     "name": "stdout",
     "output_type": "stream",
     "text": [
      "[45 84 12 91 27 84 81 62]\n"
     ]
    }
   ],
   "source": [
    "print(num)"
   ]
  },
  {
   "cell_type": "code",
   "execution_count": 13,
   "id": "dea37b6f-1f39-4fc3-a4b9-6b8d899c8f50",
   "metadata": {},
   "outputs": [
    {
     "data": {
      "text/plain": [
       "dtype('int32')"
      ]
     },
     "execution_count": 13,
     "metadata": {},
     "output_type": "execute_result"
    }
   ],
   "source": [
    "num.dtype"
   ]
  },
  {
   "cell_type": "code",
   "execution_count": 31,
   "id": "858f5f04-7865-4600-81b1-ed49dca3261f",
   "metadata": {},
   "outputs": [],
   "source": [
    "num = np.array([45,84,12,91,27,84,81,62], dtype=np.int64)"
   ]
  },
  {
   "cell_type": "code",
   "execution_count": 19,
   "id": "b2ca5e11-efd4-4a20-9c34-c167089b84ad",
   "metadata": {},
   "outputs": [],
   "source": [
    "num1 = np.array([45,84,12,91,27,84,81.03])"
   ]
  },
  {
   "cell_type": "code",
   "execution_count": 21,
   "id": "77d41ef3-60eb-4a6d-907c-286fb8a4aec9",
   "metadata": {},
   "outputs": [
    {
     "data": {
      "text/plain": [
       "dtype('float64')"
      ]
     },
     "execution_count": 21,
     "metadata": {},
     "output_type": "execute_result"
    }
   ],
   "source": [
    "num1.dtype"
   ]
  },
  {
   "cell_type": "code",
   "execution_count": 27,
   "id": "569e66af-6cce-4663-b8a6-123303cbc23f",
   "metadata": {},
   "outputs": [
    {
     "data": {
      "text/plain": [
       "array([ 90.  , 168.  ,  24.  , 182.  ,  54.  , 168.  , 162.06])"
      ]
     },
     "execution_count": 27,
     "metadata": {},
     "output_type": "execute_result"
    }
   ],
   "source": [
    "num1*2"
   ]
  },
  {
   "cell_type": "code",
   "execution_count": 33,
   "id": "c95a59a3-b3d5-45aa-b7cc-70601c7e3f32",
   "metadata": {},
   "outputs": [
    {
     "data": {
      "text/plain": [
       "array([False,  True, False,  True, False,  True,  True])"
      ]
     },
     "execution_count": 33,
     "metadata": {},
     "output_type": "execute_result"
    }
   ],
   "source": [
    "num1 > 50"
   ]
  },
  {
   "cell_type": "code",
   "execution_count": 35,
   "id": "f294218c-cfb1-43a7-a47a-619224248fdc",
   "metadata": {},
   "outputs": [
    {
     "data": {
      "text/plain": [
       "array([84.  , 91.  , 84.  , 81.03])"
      ]
     },
     "execution_count": 35,
     "metadata": {},
     "output_type": "execute_result"
    }
   ],
   "source": [
    "num1[num1 > 50]"
   ]
  },
  {
   "cell_type": "markdown",
   "id": "d89f212f-8cb6-4d59-a596-85da1dbeea08",
   "metadata": {},
   "source": [
    "#### Matrix"
   ]
  },
  {
   "cell_type": "code",
   "execution_count": 38,
   "id": "66ef6bfa-a167-4e31-8319-95ab1c0c8147",
   "metadata": {},
   "outputs": [],
   "source": [
    "M = np.array([[5,6,7],[2,4,3],[6,8,9],[0,1,3]])"
   ]
  },
  {
   "cell_type": "code",
   "execution_count": 40,
   "id": "e25129e2-c8bf-45af-9981-3958b89f2c0b",
   "metadata": {},
   "outputs": [
    {
     "data": {
      "text/plain": [
       "array([[5, 6, 7],\n",
       "       [2, 4, 3],\n",
       "       [6, 8, 9],\n",
       "       [0, 1, 3]])"
      ]
     },
     "execution_count": 40,
     "metadata": {},
     "output_type": "execute_result"
    }
   ],
   "source": [
    "M"
   ]
  },
  {
   "cell_type": "code",
   "execution_count": 46,
   "id": "b5bf144f-7590-4527-b039-75046f31e510",
   "metadata": {},
   "outputs": [
    {
     "name": "stdout",
     "output_type": "stream",
     "text": [
      "2\n",
      "(4, 3)\n",
      "12\n"
     ]
    }
   ],
   "source": [
    "print(M.ndim)\n",
    "print(M.shape)\n",
    "print(M.size)"
   ]
  },
  {
   "cell_type": "code",
   "execution_count": 48,
   "id": "2ac04adc-4109-4d08-bfc7-df46ca2311b4",
   "metadata": {},
   "outputs": [
    {
     "data": {
      "text/plain": [
       "6"
      ]
     },
     "execution_count": 48,
     "metadata": {},
     "output_type": "execute_result"
    }
   ],
   "source": [
    "M[0][1]"
   ]
  },
  {
   "cell_type": "code",
   "execution_count": 50,
   "id": "625259a0-bf65-459e-b06b-70591af536a7",
   "metadata": {},
   "outputs": [
    {
     "data": {
      "text/plain": [
       "6"
      ]
     },
     "execution_count": 50,
     "metadata": {},
     "output_type": "execute_result"
    }
   ],
   "source": [
    "M[0,1]"
   ]
  },
  {
   "cell_type": "code",
   "execution_count": 52,
   "id": "1d4a2687-b88d-4182-9315-331d4411537c",
   "metadata": {},
   "outputs": [
    {
     "data": {
      "text/plain": [
       "array([[5, 2, 6, 0],\n",
       "       [6, 4, 8, 1],\n",
       "       [7, 3, 9, 3]])"
      ]
     },
     "execution_count": 52,
     "metadata": {},
     "output_type": "execute_result"
    }
   ],
   "source": [
    "M.T"
   ]
  },
  {
   "cell_type": "code",
   "execution_count": 54,
   "id": "a83b4112-b848-47ea-a2aa-e5746de6e8e9",
   "metadata": {},
   "outputs": [
    {
     "data": {
      "text/plain": [
       "array([[5, 2, 6, 0],\n",
       "       [6, 4, 8, 1],\n",
       "       [7, 3, 9, 3]])"
      ]
     },
     "execution_count": 54,
     "metadata": {},
     "output_type": "execute_result"
    }
   ],
   "source": [
    "M.transpose()"
   ]
  },
  {
   "cell_type": "code",
   "execution_count": 56,
   "id": "8227910d-75a0-4aaa-ba15-2fd3f1c25d62",
   "metadata": {},
   "outputs": [
    {
     "data": {
      "text/plain": [
       "array([[5, 6],\n",
       "       [7, 2],\n",
       "       [4, 3],\n",
       "       [6, 8],\n",
       "       [9, 0],\n",
       "       [1, 3]])"
      ]
     },
     "execution_count": 56,
     "metadata": {},
     "output_type": "execute_result"
    }
   ],
   "source": [
    "M.reshape(6,2)"
   ]
  },
  {
   "cell_type": "code",
   "execution_count": 58,
   "id": "c2ed0bef-1778-4d93-95dd-8400aaf8ee11",
   "metadata": {},
   "outputs": [
    {
     "data": {
      "text/plain": [
       "array([5, 6, 7, 2, 4, 3, 6, 8, 9, 0, 1, 3])"
      ]
     },
     "execution_count": 58,
     "metadata": {},
     "output_type": "execute_result"
    }
   ],
   "source": [
    "M.flatten()"
   ]
  },
  {
   "cell_type": "code",
   "execution_count": 60,
   "id": "5521f857-ebd7-4299-ab85-6ae464d002a4",
   "metadata": {},
   "outputs": [
    {
     "data": {
      "text/plain": [
       "array([5, 6, 7, 2, 4, 3, 6, 8, 9, 0, 1, 3])"
      ]
     },
     "execution_count": 60,
     "metadata": {},
     "output_type": "execute_result"
    }
   ],
   "source": [
    "M.reshape(-1)"
   ]
  },
  {
   "cell_type": "code",
   "execution_count": 62,
   "id": "88e6434f-396a-4380-9d8c-0f95c7988eb4",
   "metadata": {},
   "outputs": [
    {
     "data": {
      "text/plain": [
       "array([[5, 6, 7, 2],\n",
       "       [4, 3, 6, 8],\n",
       "       [9, 0, 1, 3]])"
      ]
     },
     "execution_count": 62,
     "metadata": {},
     "output_type": "execute_result"
    }
   ],
   "source": [
    "M.reshape(-1,4)"
   ]
  },
  {
   "cell_type": "code",
   "execution_count": 64,
   "id": "a38d92f9-ec3a-44eb-8caa-f4ef8220b168",
   "metadata": {},
   "outputs": [],
   "source": [
    "import numpy as np"
   ]
  },
  {
   "cell_type": "code",
   "execution_count": 68,
   "id": "a7eb0686-5204-407d-b30f-76fa5c1d50b0",
   "metadata": {},
   "outputs": [
    {
     "data": {
      "text/plain": [
       "[7, 5, 2, 2, 4]"
      ]
     },
     "execution_count": 68,
     "metadata": {},
     "output_type": "execute_result"
    }
   ],
   "source": [
    "num = [np.random.randint(1,10) for x in range(5)]\n",
    "num"
   ]
  },
  {
   "cell_type": "code",
   "execution_count": null,
   "id": "d28506b9-2bcf-4ec0-97c7-efd8328fa73e",
   "metadata": {},
   "outputs": [],
   "source": []
  }
 ],
 "metadata": {
  "kernelspec": {
   "display_name": "Python 3 (ipykernel)",
   "language": "python",
   "name": "python3"
  },
  "language_info": {
   "codemirror_mode": {
    "name": "ipython",
    "version": 3
   },
   "file_extension": ".py",
   "mimetype": "text/x-python",
   "name": "python",
   "nbconvert_exporter": "python",
   "pygments_lexer": "ipython3",
   "version": "3.12.4"
  }
 },
 "nbformat": 4,
 "nbformat_minor": 5
}
