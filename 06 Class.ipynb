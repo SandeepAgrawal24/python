{
 "cells": [
  {
   "cell_type": "markdown",
   "id": "2782cccb-0153-49d4-9ef1-632b1a36a769",
   "metadata": {},
   "source": [
    "# OOPS (Class)"
   ]
  },
  {
   "cell_type": "code",
   "execution_count": 16,
   "id": "d00d4849-5567-490f-bd5f-d784b016ab59",
   "metadata": {},
   "outputs": [],
   "source": [
    "class Person:\n",
    "    # constructor\n",
    "    def __init__(self, n, a):\n",
    "        self.name = n         # instance variables\n",
    "        self.age = a          # name and age are properties or attributes \n",
    "    def show(self):           # function / behaviour\n",
    "        print('My data:',self.name,self.age)\n",
    "    def isElegibleForVoting(self):\n",
    "        if self.age >= 21:\n",
    "            return True\n",
    "        else:\n",
    "            return False"
   ]
  },
  {
   "cell_type": "code",
   "execution_count": 32,
   "id": "1c3208b1-6fa1-477e-b214-3a7284f1a235",
   "metadata": {},
   "outputs": [
    {
     "data": {
      "text/plain": [
       "('sandeep', 43)"
      ]
     },
     "execution_count": 32,
     "metadata": {},
     "output_type": "execute_result"
    }
   ],
   "source": [
    "# create object\n",
    "ob1 = Person(\"sandeep\",43)\n",
    "ob2 = Person(\"parth\", 12)\n",
    "\n",
    "ob1.name, ob1.age"
   ]
  },
  {
   "cell_type": "code",
   "execution_count": 22,
   "id": "841b1cab-6c31-4ec2-bb04-70164e18fedc",
   "metadata": {},
   "outputs": [
    {
     "name": "stdout",
     "output_type": "stream",
     "text": [
      "My data: sandeep 43\n"
     ]
    }
   ],
   "source": [
    "ob1.show()"
   ]
  },
  {
   "cell_type": "code",
   "execution_count": 24,
   "id": "d119b7c9-be5e-443c-985f-9735a00954eb",
   "metadata": {},
   "outputs": [
    {
     "data": {
      "text/plain": [
       "True"
      ]
     },
     "execution_count": 24,
     "metadata": {},
     "output_type": "execute_result"
    }
   ],
   "source": [
    "ob1.isElegibleForVoting()"
   ]
  },
  {
   "cell_type": "code",
   "execution_count": 34,
   "id": "854ae5d8-0890-468d-8dde-4705acdebdc4",
   "metadata": {},
   "outputs": [
    {
     "data": {
      "text/plain": [
       "False"
      ]
     },
     "execution_count": 34,
     "metadata": {},
     "output_type": "execute_result"
    }
   ],
   "source": [
    "ob2.isElegibleForVoting()"
   ]
  },
  {
   "cell_type": "code",
   "execution_count": null,
   "id": "535fd281-1fef-4fa1-92a0-448d1da6905a",
   "metadata": {},
   "outputs": [],
   "source": []
  }
 ],
 "metadata": {
  "kernelspec": {
   "display_name": "Python 3 (ipykernel)",
   "language": "python",
   "name": "python3"
  },
  "language_info": {
   "codemirror_mode": {
    "name": "ipython",
    "version": 3
   },
   "file_extension": ".py",
   "mimetype": "text/x-python",
   "name": "python",
   "nbconvert_exporter": "python",
   "pygments_lexer": "ipython3",
   "version": "3.12.4"
  }
 },
 "nbformat": 4,
 "nbformat_minor": 5
}
