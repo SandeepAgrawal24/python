{
 "cells": [
  {
   "cell_type": "markdown",
   "id": "1bf8363b-7cc6-4c48-9512-f51af9e36c19",
   "metadata": {},
   "source": [
    "#### Functions"
   ]
  },
  {
   "cell_type": "code",
   "execution_count": 2,
   "id": "811d410a-0e44-4706-9f43-c519f586f08a",
   "metadata": {},
   "outputs": [],
   "source": [
    "def show():\n",
    "    print(\"hello world!\")"
   ]
  },
  {
   "cell_type": "code",
   "execution_count": 4,
   "id": "2f8e5910-b62d-4095-a9c5-d5307e58501a",
   "metadata": {},
   "outputs": [
    {
     "name": "stdout",
     "output_type": "stream",
     "text": [
      "hello world!\n"
     ]
    }
   ],
   "source": [
    "show()"
   ]
  },
  {
   "cell_type": "code",
   "execution_count": 8,
   "id": "31bda829-d93f-4ffb-8881-5bc412bd87c5",
   "metadata": {},
   "outputs": [
    {
     "name": "stdout",
     "output_type": "stream",
     "text": [
      "81\n"
     ]
    }
   ],
   "source": [
    "def square(n):\n",
    "    sq = n*n\n",
    "    print(sq)\n",
    "\n",
    "square(9)"
   ]
  },
  {
   "cell_type": "code",
   "execution_count": 12,
   "id": "b4da6540-c7a4-4192-a84b-7d4b36b219c6",
   "metadata": {},
   "outputs": [
    {
     "name": "stdout",
     "output_type": "stream",
     "text": [
      "28\n"
     ]
    }
   ],
   "source": [
    "def compare(x,y):\n",
    "    if x>y:\n",
    "        return x\n",
    "    else:\n",
    "        return y\n",
    "\n",
    "print(4*compare(5,7))"
   ]
  },
  {
   "cell_type": "code",
   "execution_count": 20,
   "id": "641d5cef-cc8b-4c59-adfa-01cd1297ad86",
   "metadata": {},
   "outputs": [
    {
     "name": "stdout",
     "output_type": "stream",
     "text": [
      "Square and Cube are:  (49, 343)\n",
      "Square is: 25\n",
      "Cube is: 125\n"
     ]
    }
   ],
   "source": [
    "def calc(num):\n",
    "    sq = num*num\n",
    "    cu = sq*num\n",
    "    return sq,cu\n",
    "\n",
    "print(\"Square and Cube are: \",calc(7))\n",
    "\n",
    "x, y = calc(5)\n",
    "print(\"Square is:\", x)\n",
    "print(\"Cube is:\", y)"
   ]
  },
  {
   "cell_type": "code",
   "execution_count": 48,
   "id": "15da68af-79a8-46a2-b232-ae2d1e066b0b",
   "metadata": {},
   "outputs": [
    {
     "name": "stdout",
     "output_type": "stream",
     "text": [
      "1107\n",
      "1103\n"
     ]
    }
   ],
   "source": [
    "# Default parameters\n",
    "\n",
    "def add(x, y=3, z=7):\n",
    "    return x + y + z\n",
    "\n",
    "print(add(100,1000))\n",
    "print(add(100,z=1000))"
   ]
  },
  {
   "cell_type": "code",
   "execution_count": null,
   "id": "8f1be0ed-9bda-4d4d-8385-074e61c51f6e",
   "metadata": {},
   "outputs": [],
   "source": []
  },
  {
   "cell_type": "code",
   "execution_count": null,
   "id": "3caf0e7f-5113-43cb-9639-87fecec0bfe7",
   "metadata": {},
   "outputs": [],
   "source": []
  },
  {
   "cell_type": "markdown",
   "id": "d940de8e-0fe9-4da7-82be-a9f23d48bcc1",
   "metadata": {},
   "source": [
    "#### Help"
   ]
  },
  {
   "cell_type": "code",
   "execution_count": 22,
   "id": "044a8c28-b5e7-4d01-a373-a6eb2bbfdb0f",
   "metadata": {},
   "outputs": [
    {
     "name": "stdout",
     "output_type": "stream",
     "text": [
      "Help on built-in function max in module builtins:\n",
      "\n",
      "max(...)\n",
      "    max(iterable, *[, default=obj, key=func]) -> value\n",
      "    max(arg1, arg2, *args, *[, key=func]) -> value\n",
      "\n",
      "    With a single iterable argument, return its biggest item. The\n",
      "    default keyword-only argument specifies an object to return if\n",
      "    the provided iterable is empty.\n",
      "    With two or more arguments, return the largest argument.\n",
      "\n"
     ]
    }
   ],
   "source": [
    "help(max)"
   ]
  },
  {
   "cell_type": "code",
   "execution_count": null,
   "id": "2827f7cd-ac2b-4b7b-afe3-68a844f307c1",
   "metadata": {},
   "outputs": [],
   "source": []
  }
 ],
 "metadata": {
  "kernelspec": {
   "display_name": "Python 3 (ipykernel)",
   "language": "python",
   "name": "python3"
  },
  "language_info": {
   "codemirror_mode": {
    "name": "ipython",
    "version": 3
   },
   "file_extension": ".py",
   "mimetype": "text/x-python",
   "name": "python",
   "nbconvert_exporter": "python",
   "pygments_lexer": "ipython3",
   "version": "3.12.4"
  }
 },
 "nbformat": 4,
 "nbformat_minor": 5
}
